{
 "cells": [
  {
   "cell_type": "code",
   "execution_count": 2,
   "metadata": {},
   "outputs": [],
   "source": [
    "import pandas as pd\n",
    "import numpy as np\n",
    "from scipy.stats import ttest_ind, chi2_contingency"
   ]
  },
  {
   "cell_type": "markdown",
   "metadata": {},
   "source": [
    "# A/B Hypothesis Testing"
   ]
  },
  {
   "cell_type": "code",
   "execution_count": 3,
   "metadata": {},
   "outputs": [
    {
     "name": "stderr",
     "output_type": "stream",
     "text": [
      "C:\\Users\\Hello\\AppData\\Local\\Temp\\ipykernel_17028\\4111737287.py:2: DtypeWarning: Columns (32,37) have mixed types. Specify dtype option on import or set low_memory=False.\n",
      "  df = pd.read_csv('../data/dataset.txt', delimiter='|')\n"
     ]
    }
   ],
   "source": [
    "# Load your data into a DataFrame\n",
    "df = pd.read_csv('../data/dataset.txt', delimiter='|')"
   ]
  },
  {
   "cell_type": "markdown",
   "metadata": {},
   "source": [
    "# Null Hypotheses:\n",
    "1. No risk differences across provinces**\n",
    "2. No risk differences between zip codes\n",
    "3. No significant margin (profit) differences between zip codes\n",
    "4. No significant risk difference between Women and Men"
   ]
  },
  {
   "cell_type": "code",
   "execution_count": 4,
   "metadata": {},
   "outputs": [
    {
     "data": {
      "text/plain": [
       "CoverType\n",
       "Own Damage                                             104183\n",
       "Passenger Liability                                    104158\n",
       "Windscreen                                             103763\n",
       "Third Party                                            102825\n",
       "Keys and Alarms                                        102428\n",
       "Signage and Vehicle Wraps                              102416\n",
       "Emergency Charges                                      102416\n",
       "Cleaning and Removal of Accident Debris                102414\n",
       "Income Protector                                        64813\n",
       "Basic Excess Waiver                                     57769\n",
       "Accidental Death                                        27321\n",
       "Credit Protection                                       18070\n",
       "Roadside Assistance                                      3834\n",
       "Deposit Cover                                            1299\n",
       "Asset Value Preserver                                     865\n",
       "Standalone passenger liability                            544\n",
       "Fire and Theft                                            375\n",
       "Cash Takings                                              291\n",
       "Baggage/Luggage                                           172\n",
       "Trailer                                                    76\n",
       "Third Party Only                                           63\n",
       "Factory Fitted Sound and Other Electronic Equipment         3\n",
       "Name: count, dtype: int64"
      ]
     },
     "execution_count": 4,
     "metadata": {},
     "output_type": "execute_result"
    }
   ],
   "source": [
    "df['CoverType'].value_counts()"
   ]
  },
  {
   "cell_type": "code",
   "execution_count": 5,
   "metadata": {},
   "outputs": [],
   "source": [
    "# Group data by control and test groups (A/B Testing)\n",
    "control_group = df[df['CoverType'] == 0]\n",
    "test_group = df[df['CoverType'] == 1]\n"
   ]
  },
  {
   "cell_type": "code",
   "execution_count": 6,
   "metadata": {},
   "outputs": [],
   "source": [
    "# Select Metrics and KPIs\n",
    "kpi_risk = 'StatutoryRiskType'  # Example KPI\n",
    "kpi_profit = 'TotalPremium'     # Example KPI for profit"
   ]
  },
  {
   "cell_type": "code",
   "execution_count": 7,
   "metadata": {},
   "outputs": [],
   "source": [
    "# Testing risk differences across provinces (categorical)\n",
    "contingency_table = pd.crosstab(df['Province'], df['CoverType'])\n",
    "chi2, p_value_province, _, _ = chi2_contingency(contingency_table)"
   ]
  },
  {
   "cell_type": "code",
   "execution_count": 8,
   "metadata": {},
   "outputs": [],
   "source": [
    "# Testing risk differences between PostalCode (categorical)\n",
    "contingency_table_zip = pd.crosstab(df['PostalCode'], df['CoverType'])\n",
    "chi2_zip, p_value_zip, _, _ = chi2_contingency(contingency_table_zip)\n"
   ]
  },
  {
   "cell_type": "code",
   "execution_count": 9,
   "metadata": {},
   "outputs": [
    {
     "name": "stderr",
     "output_type": "stream",
     "text": [
      "C:\\Users\\Hello\\AppData\\Local\\Temp\\ipykernel_17028\\329955822.py:4: SmallSampleWarning: One or more sample arguments is too small; all returned values will be NaN. See documentation for sample size requirements.\n",
      "  t_stat, p_value_profit = ttest_ind(profit_control, profit_test)\n"
     ]
    }
   ],
   "source": [
    "# Testing profit differences (TotalPremium) between groups (numerical)\n",
    "profit_control = control_group[kpi_profit]\n",
    "profit_test = test_group[kpi_profit]\n",
    "t_stat, p_value_profit = ttest_ind(profit_control, profit_test)"
   ]
  },
  {
   "cell_type": "code",
   "execution_count": 10,
   "metadata": {},
   "outputs": [],
   "source": [
    "# Testing risk differences between Women and Men (categorical)\n",
    "contingency_table_gender = pd.crosstab(df['Gender'], df['CoverType'])\n",
    "chi2_gender, p_value_gender, _, _ = chi2_contingency(contingency_table_gender)"
   ]
  },
  {
   "cell_type": "markdown",
   "metadata": {},
   "source": [
    "**Analyze the p-value from the statistical test:**\n",
    "\n",
    "If p_value < 0.05 (typical threshold for significance), reject the null hypothesis. This suggests that the feature tested does have a statistically significant effect on the KPI.\n",
    "\n",
    "If p_value >= 0.05, fail to reject the null hypothesis, suggesting that the feature does not have a significant impact on the KPI.\n"
   ]
  },
  {
   "cell_type": "code",
   "execution_count": 11,
   "metadata": {},
   "outputs": [],
   "source": [
    "# Analyze the results\n",
    "alpha = 0.05\n",
    "\n",
    "def analyze_results(p_value, hypothesis):\n",
    "    if p_value < alpha:\n",
    "        print(f\"Reject the null hypothesis: {hypothesis}\")\n",
    "    else:\n",
    "        print(f\"Fail to reject the null hypothesis: {hypothesis}\")"
   ]
  },
  {
   "cell_type": "code",
   "execution_count": 12,
   "metadata": {},
   "outputs": [
    {
     "name": "stdout",
     "output_type": "stream",
     "text": [
      "Hypothesis Testing Results:\n",
      "Reject the null hypothesis: No risk differences across provinces\n",
      "Reject the null hypothesis: No risk differences between PostalCodes\n",
      "Fail to reject the null hypothesis: No significant margin (profit) differences between CoverTypes\n",
      "Reject the null hypothesis: No significant risk difference between Women and Men\n"
     ]
    }
   ],
   "source": [
    "print(\"Hypothesis Testing Results:\")\n",
    "analyze_results(p_value_province, \"No risk differences across provinces\")\n",
    "analyze_results(p_value_zip, \"No risk differences between PostalCodes\")\n",
    "analyze_results(p_value_profit, \"No significant margin (profit) differences between CoverTypes\")\n",
    "analyze_results(p_value_gender, \"No significant risk difference between Women and Men\")"
   ]
  }
 ],
 "metadata": {
  "kernelspec": {
   "display_name": "venv",
   "language": "python",
   "name": "python3"
  },
  "language_info": {
   "codemirror_mode": {
    "name": "ipython",
    "version": 3
   },
   "file_extension": ".py",
   "mimetype": "text/x-python",
   "name": "python",
   "nbconvert_exporter": "python",
   "pygments_lexer": "ipython3",
   "version": "3.12.6"
  }
 },
 "nbformat": 4,
 "nbformat_minor": 2
}
